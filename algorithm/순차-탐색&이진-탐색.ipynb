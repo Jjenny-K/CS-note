{
 "cells": [
  {
   "cell_type": "markdown",
   "metadata": {},
   "source": [
    "### Searching Algorithm - Example Code"
   ]
  },
  {
   "cell_type": "code",
   "execution_count": 1,
   "metadata": {},
   "outputs": [
    {
     "data": {
      "text/plain": [
       "['apple', 'orange', 'banana', 'melon', 'mango', 'pear', 'kiwi']"
      ]
     },
     "execution_count": 1,
     "metadata": {},
     "output_type": "execute_result"
    }
   ],
   "source": [
    "test_list = ['apple', 'orange', 'banana', 'melon', 'mango', 'pear', 'kiwi']\n",
    "test_list"
   ]
  },
  {
   "cell_type": "markdown",
   "metadata": {},
   "source": [
    "#### 선형 탐색(Sequential Search)"
   ]
  },
  {
   "cell_type": "code",
   "execution_count": 2,
   "metadata": {},
   "outputs": [],
   "source": [
    "def sequential_search(array, target):\n",
    "    for idx, value in enumerate(array):\n",
    "        if value == target:\n",
    "            return idx"
   ]
  },
  {
   "cell_type": "code",
   "execution_count": 3,
   "metadata": {},
   "outputs": [
    {
     "name": "stdout",
     "output_type": "stream",
     "text": [
      "2\n"
     ]
    }
   ],
   "source": [
    "print(sequential_search(test_list, 'banana'))"
   ]
  },
  {
   "cell_type": "markdown",
   "metadata": {},
   "source": [
    "#### 이진 탐색(Binary Search)\n",
    "1. 주어진 데이터를 사전 정렬한다.\n",
    "2. 데이터의 중간점을 찾는다.\n",
    "3. 찾으려는 데이터와 중간점을 비교한다.\n",
    "4. 찾으려는 데이터가 중간점보다 클 경우 시작점 = 중간점 + 1,  \n",
    "   찾으려는 데이터가 중간점보다 작을 경우 끝점 = 중간점 - 1로 지정한다.\n",
    "5. 원하는 데이터를 찾을때까지 2-4를 반복한다."
   ]
  },
  {
   "cell_type": "code",
   "execution_count": 4,
   "metadata": {},
   "outputs": [],
   "source": [
    "# 재귀를 이용한 이진 탐색\n",
    "def binary_search_recur(array, target, start, end):\n",
    "    if start > end:\n",
    "        return None\n",
    "\n",
    "    middle = (start + end) // 2\n",
    "\n",
    "    if target == array[middle]:\n",
    "        return middle\n",
    "    elif target > array[middle]:\n",
    "        start = middle + 1\n",
    "        return binary_search_recur(array, target, start, end)\n",
    "    else:\n",
    "        end = middle - 1\n",
    "        return binary_search_recur(array, target, start, end)\n",
    "\n",
    "# 반복을 이용한 이진 탐색\n",
    "def binary_search_loop(array, target, start, end):\n",
    "    while start <= end:\n",
    "        middle = (start + end) // 2\n",
    "\n",
    "        if target == array[middle]:\n",
    "            return middle\n",
    "        elif target > array[middle]:\n",
    "            start = middle + 1\n",
    "        else:\n",
    "            end = middle - 1\n",
    "\n",
    "    return None\n",
    "\n",
    "# use library - 'bisect'\n",
    "import bisect\n",
    "\n",
    "def binary_search_lib(array, target):\n",
    "    middle = bisect.bisect(array, target)\n",
    "\n",
    "    return middle - 1 if array[middle - 1] == target else None"
   ]
  },
  {
   "cell_type": "code",
   "execution_count": 5,
   "metadata": {},
   "outputs": [
    {
     "data": {
      "text/plain": [
       "['apple', 'banana', 'kiwi', 'mango', 'melon', 'orange', 'pear']"
      ]
     },
     "execution_count": 5,
     "metadata": {},
     "output_type": "execute_result"
    }
   ],
   "source": [
    "sorted_list = sorted(test_list)\n",
    "sorted_list"
   ]
  },
  {
   "cell_type": "code",
   "execution_count": 6,
   "metadata": {},
   "outputs": [
    {
     "name": "stdout",
     "output_type": "stream",
     "text": [
      "1\n"
     ]
    }
   ],
   "source": [
    "print(binary_search_recur(sorted_list, 'banana', 0, len(sorted_list)))"
   ]
  },
  {
   "cell_type": "code",
   "execution_count": 7,
   "metadata": {},
   "outputs": [
    {
     "name": "stdout",
     "output_type": "stream",
     "text": [
      "1\n"
     ]
    }
   ],
   "source": [
    "print(binary_search_loop(sorted_list, 'banana', 0, len(sorted_list)))"
   ]
  },
  {
   "cell_type": "code",
   "execution_count": 8,
   "metadata": {},
   "outputs": [
    {
     "name": "stdout",
     "output_type": "stream",
     "text": [
      "1\n"
     ]
    }
   ],
   "source": [
    "print(binary_search_lib(sorted_list, 'banana'))"
   ]
  }
 ],
 "metadata": {
  "kernelspec": {
   "display_name": "Python 3.9.7 ('base')",
   "language": "python",
   "name": "python3"
  },
  "language_info": {
   "codemirror_mode": {
    "name": "ipython",
    "version": 3
   },
   "file_extension": ".py",
   "mimetype": "text/x-python",
   "name": "python",
   "nbconvert_exporter": "python",
   "pygments_lexer": "ipython3",
   "version": "3.9.7"
  },
  "orig_nbformat": 4,
  "vscode": {
   "interpreter": {
    "hash": "ad2bdc8ecc057115af97d19610ffacc2b4e99fae6737bb82f5d7fb13d2f2c186"
   }
  }
 },
 "nbformat": 4,
 "nbformat_minor": 2
}
