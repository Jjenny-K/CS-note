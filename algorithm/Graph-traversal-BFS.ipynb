{
 "cells": [
  {
   "cell_type": "markdown",
   "metadata": {},
   "source": [
    "### Graph traversal - Example Code"
   ]
  },
  {
   "cell_type": "markdown",
   "metadata": {},
   "source": [
    "#### 너비 우선 탐색: Breadth First Search\n",
    "1. 시작 정점을 방문한다.\n",
    "2. 인접한 정점 중 방문하지 않은 정점을 큐에 추가한다.\n",
    "3. 큐에 있는 정점들을 순서대로 방문한다.\n",
    "4. 큐에 있는 정점에 대해 인접하면서 아직 방문하지 않은 정점들을 새로운 큐에 추가한다.\n",
    "5. 마지막 정점을 방문할 때까지 1-4를 반복한다."
   ]
  },
  {
   "cell_type": "code",
   "execution_count": 1,
   "metadata": {},
   "outputs": [],
   "source": [
    "from queue import Queue\n",
    "\n",
    "class Graph:\n",
    "    def __init__(self, vertex_num):\n",
    "        self.adj_list = [[] for _ in range(vertex_num)]\n",
    "        self.visited = [False for _ in range(vertex_num)]\n",
    "\n",
    "    def init_visited(self):\n",
    "        for i in range(len(self.visited)):\n",
    "            self.visited[i] = False\n",
    "\n",
    "    def add_edge(self, u, v):\n",
    "        self.adj_list[u].append(v)\n",
    "        self.adj_list[v].append(u)\n",
    "\n",
    "    # 큐를 이용한 BFS\n",
    "    def bfs_queue(self, idx):\n",
    "        queue_list = Queue()\n",
    "        self.init_visited()\n",
    "\n",
    "        queue_list.put(idx)  # list - append(idx)\n",
    "        self.visited[idx] = True\n",
    "\n",
    "        while not queue_list.empty():\n",
    "            idx = queue_list.get()  # list - pop(0)\n",
    "            print(idx, end = '-')\n",
    "\n",
    "            adj_v = self.adj_list[idx]\n",
    "\n",
    "            for u in adj_v:\n",
    "                if not self.visited[u]:\n",
    "                    queue_list.put(u)\n",
    "                    self.visited[u] = True"
   ]
  },
  {
   "cell_type": "code",
   "execution_count": 2,
   "metadata": {},
   "outputs": [],
   "source": [
    "test_graph = Graph(8)\n",
    "test_edge_list = [\n",
    "    (0, 1), (1, 0), (1, 3), (3, 1), (3, 4), (4, 3), \n",
    "    (0, 6), (6, 0), \n",
    "    (0, 2), (2, 0), (2, 5), (5, 2), (5, 7), (7, 5), \n",
    "    (5, 6), (6, 5)\n",
    "]\n",
    "\n",
    "for u, v in test_edge_list:\n",
    "    test_graph.add_edge(u, v)"
   ]
  },
  {
   "cell_type": "code",
   "execution_count": 3,
   "metadata": {},
   "outputs": [
    {
     "name": "stdout",
     "output_type": "stream",
     "text": [
      "0-1-6-2-3-5-4-7-"
     ]
    }
   ],
   "source": [
    "test_graph.bfs_queue(0)"
   ]
  }
 ],
 "metadata": {
  "kernelspec": {
   "display_name": "Python 3.9.7 ('base')",
   "language": "python",
   "name": "python3"
  },
  "language_info": {
   "codemirror_mode": {
    "name": "ipython",
    "version": 3
   },
   "file_extension": ".py",
   "mimetype": "text/x-python",
   "name": "python",
   "nbconvert_exporter": "python",
   "pygments_lexer": "ipython3",
   "version": "3.9.7"
  },
  "orig_nbformat": 4,
  "vscode": {
   "interpreter": {
    "hash": "ad2bdc8ecc057115af97d19610ffacc2b4e99fae6737bb82f5d7fb13d2f2c186"
   }
  }
 },
 "nbformat": 4,
 "nbformat_minor": 2
}
