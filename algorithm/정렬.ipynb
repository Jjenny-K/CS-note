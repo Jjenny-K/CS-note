{
 "cells": [
  {
   "cell_type": "markdown",
   "metadata": {},
   "source": [
    "### 정렬(Sort) - Example Code"
   ]
  },
  {
   "cell_type": "code",
   "execution_count": 1,
   "metadata": {},
   "outputs": [
    {
     "data": {
      "text/plain": [
       "[5, 3, 7, 8, 6, 4, 2, 1, 0, 9]"
      ]
     },
     "execution_count": 1,
     "metadata": {},
     "output_type": "execute_result"
    }
   ],
   "source": [
    "test_list = [5, 3, 7, 8, 6, 4, 2, 1, 0, 9]\n",
    "test_list"
   ]
  },
  {
   "cell_type": "code",
   "execution_count": 2,
   "metadata": {},
   "outputs": [
    {
     "data": {
      "text/plain": [
       "[0, 1, 2, 3, 4, 5, 6, 7, 8, 9]"
      ]
     },
     "execution_count": 2,
     "metadata": {},
     "output_type": "execute_result"
    }
   ],
   "source": [
    "def bubble_sort(arr):\n",
    "    length = len(arr) - 1\n",
    "\n",
    "    for i in range(length):\n",
    "        for j in range(length - i):\n",
    "            if arr[j] > arr[j + 1]:\n",
    "                arr[j], arr[j + 1] = arr[j + 1], arr[j]\n",
    "\n",
    "    return arr\n",
    "\n",
    "bubble_sort(test_list)"
   ]
  },
  {
   "cell_type": "code",
   "execution_count": 3,
   "metadata": {},
   "outputs": [
    {
     "data": {
      "text/plain": [
       "[0, 1, 2, 3, 4, 5, 6, 7, 8, 9]"
      ]
     },
     "execution_count": 3,
     "metadata": {},
     "output_type": "execute_result"
    }
   ],
   "source": [
    "def selection_sort(arr):\n",
    "    length = len(arr)\n",
    "\n",
    "    for i in range(length - 1):\n",
    "        for j in range(i + 1, length):\n",
    "            if arr[i] > arr[j]:\n",
    "                arr[i], arr[j] = arr[j], arr[i]\n",
    "\n",
    "    return arr\n",
    "\n",
    "selection_sort(test_list)"
   ]
  },
  {
   "cell_type": "code",
   "execution_count": 4,
   "metadata": {},
   "outputs": [
    {
     "data": {
      "text/plain": [
       "[0, 1, 2, 3, 4, 5, 6, 7, 8, 9]"
      ]
     },
     "execution_count": 4,
     "metadata": {},
     "output_type": "execute_result"
    }
   ],
   "source": [
    "def insert_sort(arr):\n",
    "    length = len(arr)\n",
    "    for i in range(1, length):\n",
    "        j = i - 1\n",
    "        key = arr[i]\n",
    "\n",
    "        while arr[j] > key and j >= 0:\n",
    "            arr[j + 1] = arr[j]\n",
    "            j = j - 1\n",
    "\n",
    "        arr[j + 1] = key\n",
    "\n",
    "    return arr\n",
    "\n",
    "insert_sort(test_list)"
   ]
  },
  {
   "cell_type": "code",
   "execution_count": 5,
   "metadata": {},
   "outputs": [
    {
     "data": {
      "text/plain": [
       "[0, 1, 2, 3, 4, 5, 6, 7, 8, 9]"
      ]
     },
     "execution_count": 5,
     "metadata": {},
     "output_type": "execute_result"
    }
   ],
   "source": [
    "def quick_sort(arr):\n",
    "    length = len(arr)\n",
    "\n",
    "    if length <= 1:\n",
    "        return arr\n",
    "\n",
    "    pivot = arr[length // 2]\n",
    "    less = []\n",
    "    more = []\n",
    "    equal = []\n",
    "\n",
    "    for value in arr:\n",
    "        if value < pivot:\n",
    "            less.append(value)\n",
    "        elif value > pivot:\n",
    "            more.append(value)\n",
    "        else:\n",
    "            equal.append(value)\n",
    "\n",
    "    return quick_sort(less) + equal + quick_sort(more)\n",
    "\n",
    "quick_sort(test_list)"
   ]
  },
  {
   "cell_type": "code",
   "execution_count": 6,
   "metadata": {},
   "outputs": [
    {
     "data": {
      "text/plain": [
       "[0, 1, 2, 3, 4, 5, 6, 7, 8, 9]"
      ]
     },
     "execution_count": 6,
     "metadata": {},
     "output_type": "execute_result"
    }
   ],
   "source": [
    "def merge_sort(arr):\n",
    "    length = len(arr)\n",
    "\n",
    "    if length <= 1:\n",
    "        return arr\n",
    "    \n",
    "    m = length // 2\n",
    "    L = merge_sort(arr[:m])\n",
    "    R = merge_sort(arr[m:])\n",
    "\n",
    "    result = []\n",
    "    i = 0\n",
    "    j = 0\n",
    "\n",
    "    while i < len(L) and j < len(R):\n",
    "        if L[i] < R[j]:\n",
    "            result.append(L[i])\n",
    "            i += 1\n",
    "        else:\n",
    "            result.append(R[j])\n",
    "            j += 1\n",
    "\n",
    "    result += L[i:]\n",
    "    result += R[j:]\n",
    "\n",
    "    return result\n",
    "\n",
    "merge_sort(test_list)"
   ]
  },
  {
   "cell_type": "code",
   "execution_count": 7,
   "metadata": {},
   "outputs": [
    {
     "data": {
      "text/plain": [
       "[0, 1, 2, 3, 4, 5, 6, 7, 8, 9]"
      ]
     },
     "execution_count": 7,
     "metadata": {},
     "output_type": "execute_result"
    }
   ],
   "source": [
    "def heap_sort(arr):\n",
    "    length = len(arr)\n",
    "\n",
    "    for i in range(length):\n",
    "        c = i\n",
    "\n",
    "        while c != 0:\n",
    "            r = (c - 1) // 2\n",
    "\n",
    "            if arr[r] < arr[c]:\n",
    "                arr[r], arr[c] = arr[c], arr[r]\n",
    "\n",
    "            c = r\n",
    "\n",
    "    for j in range(length - 1, -1, -1):\n",
    "        arr[0], arr[j] = arr[j], arr[0]\n",
    "\n",
    "        r = 0\n",
    "        c = 1\n",
    "\n",
    "        while c < j:\n",
    "            c = 2 * r + 1\n",
    "\n",
    "            if c < (j - 1) and arr[c] < arr[c + 1]:\n",
    "                c += 1\n",
    "            \n",
    "            if c < j and arr[r] < arr[c]:\n",
    "                arr[r], arr[c] = arr[c], arr[r]\n",
    "\n",
    "            r = c\n",
    "\n",
    "    return arr\n",
    "\n",
    "heap_sort(test_list)"
   ]
  }
 ],
 "metadata": {
  "kernelspec": {
   "display_name": "Python 3.9.7 ('base')",
   "language": "python",
   "name": "python3"
  },
  "language_info": {
   "codemirror_mode": {
    "name": "ipython",
    "version": 3
   },
   "file_extension": ".py",
   "mimetype": "text/x-python",
   "name": "python",
   "nbconvert_exporter": "python",
   "pygments_lexer": "ipython3",
   "version": "3.9.7"
  },
  "orig_nbformat": 4,
  "vscode": {
   "interpreter": {
    "hash": "ad2bdc8ecc057115af97d19610ffacc2b4e99fae6737bb82f5d7fb13d2f2c186"
   }
  }
 },
 "nbformat": 4,
 "nbformat_minor": 2
}
