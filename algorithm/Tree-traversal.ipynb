{
 "cells": [
  {
   "cell_type": "markdown",
   "metadata": {},
   "source": [
    "### Tree traversal - Example Code"
   ]
  },
  {
   "cell_type": "code",
   "execution_count": 1,
   "metadata": {},
   "outputs": [],
   "source": [
    "class Node:\n",
    "    def __init__(self, data):\n",
    "        self.data = data\n",
    "        self.left = None\n",
    "        self.right = None"
   ]
  },
  {
   "cell_type": "code",
   "execution_count": 2,
   "metadata": {},
   "outputs": [],
   "source": [
    "from queue import Queue\n",
    "\n",
    "class BinaryTree:\n",
    "    def __init__(self):\n",
    "        self.root = Node\n",
    "\n",
    "    # 재귀를 이용한 전위 순회\n",
    "    def preorder_recur(self, node):\n",
    "        if node:\n",
    "            print(node.data, end = ' ')\n",
    "\n",
    "            if node.left:\n",
    "                self.preorder_recur(node.left)\n",
    "\n",
    "            if node.right:\n",
    "                self.preorder_recur(node.right)\n",
    "\n",
    "    # 스택을 이용한 전위 순회\n",
    "    def preorder_stack(self, node):\n",
    "        stack_list = []\n",
    "\n",
    "        while True:\n",
    "            while node:\n",
    "                print(node.data, end =' ')\n",
    "                stack_list.append(node)\n",
    "                node = node.left\n",
    "            \n",
    "            if stack_list:\n",
    "                node = stack_list.pop()\n",
    "\n",
    "            if not node:\n",
    "                break\n",
    "\n",
    "            node = node.right\n",
    "\n",
    "    # 재귀를 이용한 중위 순회\n",
    "    def inorder_recur(self, node):\n",
    "        if node:\n",
    "            self.inorder_recur(node.left)\n",
    "\n",
    "            print(node.data, end = ' ')\n",
    "\n",
    "            self.inorder_recur(node.right)\n",
    "\n",
    "        return\n",
    "\n",
    "    # 스택을 이용한 중위 순회\n",
    "    def inorder_stack(self, node):\n",
    "        stack_list = []\n",
    "\n",
    "        while True:\n",
    "            while node:\n",
    "                stack_list.append(node)\n",
    "                node = node.left\n",
    "\n",
    "            if stack_list:\n",
    "                node = stack_list.pop()\n",
    "\n",
    "            if not node:\n",
    "                break\n",
    "\n",
    "            print(node.data, end = ' ')\n",
    "\n",
    "            node = node.right\n",
    "\n",
    "    # 재귀를 이용한 후위 순회\n",
    "    def postorder_recur(self, node):\n",
    "        if node:\n",
    "            if node.left:\n",
    "                self.postorder_recur(node.left)\n",
    "\n",
    "            if node.right:\n",
    "                self.postorder_recur(node.right)\n",
    "\n",
    "            print(node.data, end = ' ')\n",
    "\n",
    "    # 큐를 이용한 레벨 순회\n",
    "    def levelorder_queue(self, root):\n",
    "        queue_list = Queue()\n",
    "\n",
    "        queue_list.put(root)\n",
    "\n",
    "        while not queue_list.empty():\n",
    "            target = queue_list.get()\n",
    "            print(target.data, end = ' ')\n",
    "\n",
    "            if target.left:\n",
    "                queue_list.put(target.left)\n",
    "            \n",
    "            if target.right:\n",
    "                queue_list.put(target.right)"
   ]
  },
  {
   "cell_type": "code",
   "execution_count": 3,
   "metadata": {},
   "outputs": [],
   "source": [
    "n1 = Node(10)\n",
    "n2 = Node(34)\n",
    "n3 = Node(89)\n",
    "n4 = Node(45)\n",
    "n5 = Node(50)\n",
    "\n",
    "test_tree = BinaryTree()\n",
    "\n",
    "test_tree.root = n1\n",
    "\n",
    "n1.left = n2\n",
    "n1.right = n3\n",
    "\n",
    "n2.left = n4\n",
    "n2.right = n5"
   ]
  },
  {
   "cell_type": "markdown",
   "metadata": {},
   "source": [
    "#### 전위 순회\n",
    "1. 시작 노드를 방문한다.\n",
    "2. 방문하지 않은 왼쪽 자식 노드들을 차례로 방문한다.\n",
    "3. 더 이상 방문할 노드가 없을 때 방문하지 않은 노드를 찾을때까지 되돌아 나온다.\n",
    "4. 마지막 노드를 방문할 때까지 1-3을 반복한다."
   ]
  },
  {
   "cell_type": "code",
   "execution_count": 4,
   "metadata": {},
   "outputs": [
    {
     "name": "stdout",
     "output_type": "stream",
     "text": [
      "10 34 45 50 89 "
     ]
    }
   ],
   "source": [
    "test_tree.preorder_recur(n1)"
   ]
  },
  {
   "cell_type": "code",
   "execution_count": 5,
   "metadata": {},
   "outputs": [
    {
     "name": "stdout",
     "output_type": "stream",
     "text": [
      "10 34 45 50 89 "
     ]
    }
   ],
   "source": [
    "test_tree.preorder_stack(n1)"
   ]
  },
  {
   "cell_type": "markdown",
   "metadata": {},
   "source": [
    "#### 중위 순회\n",
    "1. 방문하지 않은 왼쪽 자식 노드들을 차례로 방문한다.\n",
    "2. 더 이상 방문할 노드가 없을 때 되돌아 나오며 동일한 부모 노드의 방문이 두번째일 경우 방문한다.\n",
    "3. 오른쪽 자식 노드를 방문한다.\n",
    "4. 마지막 노드를 방문할 때까지 1-3을 반복한다."
   ]
  },
  {
   "cell_type": "code",
   "execution_count": 6,
   "metadata": {},
   "outputs": [
    {
     "name": "stdout",
     "output_type": "stream",
     "text": [
      "45 34 50 10 89 "
     ]
    }
   ],
   "source": [
    "test_tree.inorder_recur(n1)"
   ]
  },
  {
   "cell_type": "code",
   "execution_count": 7,
   "metadata": {},
   "outputs": [
    {
     "name": "stdout",
     "output_type": "stream",
     "text": [
      "45 34 50 10 89 "
     ]
    }
   ],
   "source": [
    "test_tree.inorder_stack(n1)"
   ]
  },
  {
   "cell_type": "markdown",
   "metadata": {},
   "source": [
    "#### 후위 순회\n",
    "1. 방문하지 않은 왼쪽 자식 노드들을 차례로 방문한다.\n",
    "2. 더 이상 방문할 노드가 없을 때 되돌아 나오며 오른쪽 자식 노드를 방문한다.\n",
    "3. 부모 노드를 방문한다.\n",
    "4. 마지막 노드를 방문할 때까지 1-3을 반복한다."
   ]
  },
  {
   "cell_type": "code",
   "execution_count": 8,
   "metadata": {},
   "outputs": [
    {
     "name": "stdout",
     "output_type": "stream",
     "text": [
      "45 50 34 89 10 "
     ]
    }
   ],
   "source": [
    "test_tree.postorder_recur(n1)"
   ]
  },
  {
   "cell_type": "markdown",
   "metadata": {},
   "source": [
    "#### 레벨 순회\n",
    "1. 시작 노드를 방문한다.\n",
    "2. 자식 노드와 같은 깊이에 있는 노드를 큐에 추가한다.\n",
    "3. 큐에 있는 노드들을 차례로 방문한다.\n",
    "4. 큐에 있는 자식 노드와 같은 깊이에 있는 노드를 새로운 큐에 추가한다.\n",
    "5. 마지막 노드를 방문할 때까지 1-4를 반복한다."
   ]
  },
  {
   "cell_type": "code",
   "execution_count": 9,
   "metadata": {},
   "outputs": [
    {
     "name": "stdout",
     "output_type": "stream",
     "text": [
      "10 34 89 45 50 "
     ]
    }
   ],
   "source": [
    "test_tree.levelorder_queue(n1)"
   ]
  }
 ],
 "metadata": {
  "kernelspec": {
   "display_name": "Python 3.9.7 ('base')",
   "language": "python",
   "name": "python3"
  },
  "language_info": {
   "codemirror_mode": {
    "name": "ipython",
    "version": 3
   },
   "file_extension": ".py",
   "mimetype": "text/x-python",
   "name": "python",
   "nbconvert_exporter": "python",
   "pygments_lexer": "ipython3",
   "version": "3.9.7"
  },
  "orig_nbformat": 4,
  "vscode": {
   "interpreter": {
    "hash": "ad2bdc8ecc057115af97d19610ffacc2b4e99fae6737bb82f5d7fb13d2f2c186"
   }
  }
 },
 "nbformat": 4,
 "nbformat_minor": 2
}
