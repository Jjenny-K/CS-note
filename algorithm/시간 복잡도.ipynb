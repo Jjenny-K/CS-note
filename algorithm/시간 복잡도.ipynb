{
 "cells": [
  {
   "cell_type": "markdown",
   "metadata": {},
   "source": [
    "### 시간 복잡도(Time Complexity) - Big O Example Code"
   ]
  },
  {
   "cell_type": "code",
   "execution_count": 1,
   "metadata": {},
   "outputs": [
    {
     "data": {
      "text/plain": [
       "[2, 17, 32, 25, 9, 41]"
      ]
     },
     "execution_count": 1,
     "metadata": {},
     "output_type": "execute_result"
    }
   ],
   "source": [
    "test_list = [2, 17, 32, 25, 9, 41]\n",
    "test_list"
   ]
  },
  {
   "cell_type": "code",
   "execution_count": 2,
   "metadata": {},
   "outputs": [
    {
     "data": {
      "text/plain": [
       "2"
      ]
     },
     "execution_count": 2,
     "metadata": {},
     "output_type": "execute_result"
    }
   ],
   "source": [
    "def Big_O_O_1(arr, index):\n",
    "    return arr[index]\n",
    "\n",
    "Big_O_O_1(test_list, 0)"
   ]
  },
  {
   "cell_type": "code",
   "execution_count": 3,
   "metadata": {},
   "outputs": [
    {
     "data": {
      "text/plain": [
       "'2 32 9'"
      ]
     },
     "execution_count": 3,
     "metadata": {},
     "output_type": "execute_result"
    }
   ],
   "source": [
    "def Big_O_O_log_n(arr):\n",
    "    return ' '.join(map(str, [value for value in arr[0::2]]))\n",
    "\n",
    "Big_O_O_log_n(test_list)"
   ]
  },
  {
   "cell_type": "code",
   "execution_count": 4,
   "metadata": {},
   "outputs": [
    {
     "data": {
      "text/plain": [
       "'2 17 32 25 9 41'"
      ]
     },
     "execution_count": 4,
     "metadata": {},
     "output_type": "execute_result"
    }
   ],
   "source": [
    "def Big_O_O_n(arr):\n",
    "    return ' '.join(map(str, [value for value in arr]))\n",
    "\n",
    "Big_O_O_n(test_list)"
   ]
  },
  {
   "cell_type": "code",
   "execution_count": 5,
   "metadata": {},
   "outputs": [
    {
     "data": {
      "text/plain": [
       "[2, 9, 17, 25, 32, 41]"
      ]
     },
     "execution_count": 5,
     "metadata": {},
     "output_type": "execute_result"
    }
   ],
   "source": [
    "def merge_sort(arr):\n",
    "    if len(arr) <= 1:\n",
    "        return arr\n",
    "    \n",
    "    m = len(arr) // 2\n",
    "    L = merge_sort(arr[:m])\n",
    "    R = merge_sort(arr[m:])\n",
    "\n",
    "    result = []\n",
    "    i = 0\n",
    "    j = 0\n",
    "\n",
    "    while i < len(L) and j < len(R):\n",
    "        if L[i] < R[j]:\n",
    "            result.append(L[i])\n",
    "            i += 1\n",
    "        else:\n",
    "            result.append(R[j])\n",
    "            j += 1\n",
    "    result += L[i:]\n",
    "    result += R[j:]\n",
    "\n",
    "    return result\n",
    "    \n",
    "def Big_O_O_n_log_n(arr):\n",
    "    return merge_sort(arr)\n",
    "\n",
    "Big_O_O_n_log_n(test_list)"
   ]
  },
  {
   "cell_type": "code",
   "execution_count": 6,
   "metadata": {},
   "outputs": [
    {
     "data": {
      "text/plain": [
       "'4 34 64 50 18 82 34 289 544 425 153 697 64 544 1024 800 288 1312 50 425 800 625 225 1025 18 153 288 225 81 369 82 697 1312 1025 369 1681'"
      ]
     },
     "execution_count": 6,
     "metadata": {},
     "output_type": "execute_result"
    }
   ],
   "source": [
    "def Big_O_O_n_square(arr):\n",
    "    return ' '.join(map(str, [i * j for i in arr for j in arr]))\n",
    "\n",
    "Big_O_O_n_square(test_list)"
   ]
  },
  {
   "cell_type": "code",
   "execution_count": 7,
   "metadata": {},
   "outputs": [
    {
     "data": {
      "text/plain": [
       "1597"
      ]
     },
     "execution_count": 7,
     "metadata": {},
     "output_type": "execute_result"
    }
   ],
   "source": [
    "def fibonacci(n):\n",
    "    a, b = 0, 1\n",
    "\n",
    "    for i in range(n):\n",
    "        a, b = b, a + b\n",
    "    \n",
    "    return a\n",
    "\n",
    "def Big_O_O_2_to_the_power_of_n(arr, index):\n",
    "    return fibonacci(arr[index])\n",
    "\n",
    "Big_O_O_2_to_the_power_of_n(test_list, 1)"
   ]
  },
  {
   "cell_type": "code",
   "execution_count": 8,
   "metadata": {},
   "outputs": [
    {
     "data": {
      "text/plain": [
       "263130836933693530167218012160000000"
      ]
     },
     "execution_count": 8,
     "metadata": {},
     "output_type": "execute_result"
    }
   ],
   "source": [
    "def factorial(n):\n",
    "    return n * factorial(n-1) if n > 1 else 1\n",
    "\n",
    "def Big_O_O_n_factorial(arr, index):\n",
    "    return factorial(arr[index])\n",
    "\n",
    "Big_O_O_n_factorial(test_list, 2)"
   ]
  }
 ],
 "metadata": {
  "kernelspec": {
   "display_name": "Python 3.9.7 ('base')",
   "language": "python",
   "name": "python3"
  },
  "language_info": {
   "codemirror_mode": {
    "name": "ipython",
    "version": 3
   },
   "file_extension": ".py",
   "mimetype": "text/x-python",
   "name": "python",
   "nbconvert_exporter": "python",
   "pygments_lexer": "ipython3",
   "version": "3.9.7"
  },
  "orig_nbformat": 4,
  "vscode": {
   "interpreter": {
    "hash": "ad2bdc8ecc057115af97d19610ffacc2b4e99fae6737bb82f5d7fb13d2f2c186"
   }
  }
 },
 "nbformat": 4,
 "nbformat_minor": 2
}
