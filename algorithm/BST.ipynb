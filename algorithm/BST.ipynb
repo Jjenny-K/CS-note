{
 "cells": [
  {
   "cell_type": "markdown",
   "metadata": {},
   "source": [
    "### Binary Search Tree - Example Code"
   ]
  },
  {
   "cell_type": "code",
   "execution_count": 1,
   "metadata": {},
   "outputs": [],
   "source": [
    "class Node:\n",
    "    def __init__(self, data):\n",
    "        self.data = data\n",
    "        self.left = None\n",
    "        self.right = None"
   ]
  },
  {
   "cell_type": "code",
   "execution_count": 2,
   "metadata": {},
   "outputs": [],
   "source": [
    "class BinarySearchTree:\n",
    "    def __init__(self):\n",
    "        self.root = None\n",
    "\n",
    "    def _insert_value(self, node, data):\n",
    "        if node is None:\n",
    "            node = Node(data)\n",
    "        else:\n",
    "            if data <= node.data:\n",
    "                node.left = self._insert_value(node.left, data)\n",
    "            else:\n",
    "                node.right = self._insert_value(node.right, data)\n",
    "\n",
    "        return node\n",
    "\n",
    "    def insert(self, data):\n",
    "        self.root = self._insert_value(self.root, data)\n",
    "\n",
    "        return self.root is not None\n",
    "\n",
    "    def _search_value(self, node, target):\n",
    "        if node is None or node.data == target:\n",
    "            return node\n",
    "        elif target < node.data:\n",
    "            return self._search_value(node.left, target)\n",
    "        else:\n",
    "            return self._search_value(node.right, target)\n",
    "\n",
    "    def search(self, target):\n",
    "        return self._search_value(self.root, target)\n",
    "\n",
    "    def _delete_value(self, node, target):\n",
    "        is_deleted = False\n",
    "\n",
    "        if node is None:\n",
    "            return node, is_deleted\n",
    "\n",
    "        if target == node.data:\n",
    "            is_deleted = True\n",
    "\n",
    "            if node.left and node.right:\n",
    "                parent, child = node, node.right\n",
    "\n",
    "                while child.left is not None:\n",
    "                    parent, child = child, child.left\n",
    "\n",
    "                child.left = node.left\n",
    "\n",
    "                if parent != node:\n",
    "                    parent.left = child.right\n",
    "                    child.right = node.left\n",
    "\n",
    "                node = child\n",
    "            elif node.left or node.right:\n",
    "                node = node.left or node.right\n",
    "            else:\n",
    "                node = None\n",
    "        elif target < node.data:\n",
    "            node.left, is_deleted = self._delete_value(node.left, target)\n",
    "        else:\n",
    "            node.right, is_deleted = self._delete_value(node.right, target)\n",
    "\n",
    "        return node, is_deleted\n",
    "\n",
    "    def delete(self, target):\n",
    "        self.root, is_deleted = self._delete_value(self.root, target)\n",
    "\n",
    "        return is_deleted\n",
    "\n",
    "    def get_root(self):\n",
    "        return self.root\n",
    "\n",
    "    def get_min(self, node):\n",
    "        while node.left is not None:\n",
    "            node = node.left\n",
    "\n",
    "        return node\n",
    "\n",
    "    def get_max(self, node):\n",
    "        while node.right is not None:\n",
    "            node = node.right\n",
    "\n",
    "        return node\n",
    "\n",
    "    def get_prev(self, node):\n",
    "        if node.left:\n",
    "            return self.get_max(node.left)\n",
    "        else:\n",
    "            return None\n",
    "\n",
    "    def get_next(self, node):\n",
    "        if node.right:\n",
    "            return self.get_min(node.right)\n",
    "        else:\n",
    "            return None\n",
    "\n",
    "    def inorder_sort(self, node):\n",
    "        if node:\n",
    "            self.inorder_sort(node.left)\n",
    "\n",
    "            print(node.data, end = ' ')\n",
    "\n",
    "            self.inorder_sort(node.right)\n",
    "\n",
    "        return"
   ]
  },
  {
   "cell_type": "code",
   "execution_count": 3,
   "metadata": {},
   "outputs": [],
   "source": [
    "test_bst = BinarySearchTree()"
   ]
  },
  {
   "cell_type": "code",
   "execution_count": 4,
   "metadata": {},
   "outputs": [
    {
     "data": {
      "text/plain": [
       "6"
      ]
     },
     "execution_count": 4,
     "metadata": {},
     "output_type": "execute_result"
    }
   ],
   "source": [
    "test_list = [6, 3, 2, 4, 5, 8, 10, 9 , 11]\n",
    "\n",
    "for value in test_list:\n",
    "    test_bst.insert(value)\n",
    "\n",
    "test_bst.get_root().data"
   ]
  },
  {
   "cell_type": "code",
   "execution_count": 5,
   "metadata": {},
   "outputs": [
    {
     "name": "stdout",
     "output_type": "stream",
     "text": [
      "2 3 4 5 6 8 9 10 11 "
     ]
    }
   ],
   "source": [
    "test_bst.inorder_sort(test_bst.get_root())"
   ]
  },
  {
   "cell_type": "code",
   "execution_count": 6,
   "metadata": {},
   "outputs": [
    {
     "data": {
      "text/plain": [
       "(5, 8)"
      ]
     },
     "execution_count": 6,
     "metadata": {},
     "output_type": "execute_result"
    }
   ],
   "source": [
    "search_node = test_bst.search(6)\n",
    "test_bst.get_prev(search_node).data, test_bst.get_next(search_node).data"
   ]
  },
  {
   "cell_type": "code",
   "execution_count": 7,
   "metadata": {},
   "outputs": [
    {
     "data": {
      "text/plain": [
       "True"
      ]
     },
     "execution_count": 7,
     "metadata": {},
     "output_type": "execute_result"
    }
   ],
   "source": [
    "test_bst.delete(8)"
   ]
  },
  {
   "cell_type": "code",
   "execution_count": 8,
   "metadata": {},
   "outputs": [
    {
     "name": "stdout",
     "output_type": "stream",
     "text": [
      "2 3 4 5 6 9 10 11 "
     ]
    }
   ],
   "source": [
    "test_bst.inorder_sort(test_bst.get_root())"
   ]
  },
  {
   "cell_type": "code",
   "execution_count": 9,
   "metadata": {},
   "outputs": [
    {
     "data": {
      "text/plain": [
       "(5, 9)"
      ]
     },
     "execution_count": 9,
     "metadata": {},
     "output_type": "execute_result"
    }
   ],
   "source": [
    "search_node = test_bst.search(6)\n",
    "test_bst.get_prev(search_node).data, test_bst.get_next(search_node).data"
   ]
  },
  {
   "cell_type": "code",
   "execution_count": 10,
   "metadata": {},
   "outputs": [
    {
     "data": {
      "text/plain": [
       "True"
      ]
     },
     "execution_count": 10,
     "metadata": {},
     "output_type": "execute_result"
    }
   ],
   "source": [
    "test_bst.get_prev(test_bst.search(2)) is None"
   ]
  },
  {
   "cell_type": "code",
   "execution_count": 11,
   "metadata": {},
   "outputs": [
    {
     "data": {
      "text/plain": [
       "True"
      ]
     },
     "execution_count": 11,
     "metadata": {},
     "output_type": "execute_result"
    }
   ],
   "source": [
    "test_bst.get_next(test_bst.search(11)) is None"
   ]
  }
 ],
 "metadata": {
  "kernelspec": {
   "display_name": "Python 3.9.7 ('base')",
   "language": "python",
   "name": "python3"
  },
  "language_info": {
   "codemirror_mode": {
    "name": "ipython",
    "version": 3
   },
   "file_extension": ".py",
   "mimetype": "text/x-python",
   "name": "python",
   "nbconvert_exporter": "python",
   "pygments_lexer": "ipython3",
   "version": "3.9.7"
  },
  "orig_nbformat": 4,
  "vscode": {
   "interpreter": {
    "hash": "ad2bdc8ecc057115af97d19610ffacc2b4e99fae6737bb82f5d7fb13d2f2c186"
   }
  }
 },
 "nbformat": 4,
 "nbformat_minor": 2
}
