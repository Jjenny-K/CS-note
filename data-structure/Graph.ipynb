{
 "cells": [
  {
   "cell_type": "markdown",
   "metadata": {},
   "source": [
    "### Graph structure - Example Code"
   ]
  },
  {
   "cell_type": "markdown",
   "metadata": {},
   "source": [
    "#### 인접 행렬(adjacency matrix)\n",
    "- 연결된 정점은 1, 연결되지 않은 정점은 0으로 표현\n",
    "1. 무방향 그래프: 대각선에 대해 대칭된 인접 행렬로 표현\n",
    "2. 방향 그래프: 방향이 존재하는 간선만 인접된 행렬로 표현\n",
    "3. 가중치 그래프: 연결된 간선은 가중치로, 연결되지 않은 간선은 무한(INF)로 표현"
   ]
  },
  {
   "cell_type": "code",
   "execution_count": 1,
   "metadata": {},
   "outputs": [
    {
     "data": {
      "text/plain": [
       "[[0, 1, 1], [1, 0, 0], [1, 0, 0]]"
      ]
     },
     "execution_count": 1,
     "metadata": {},
     "output_type": "execute_result"
    }
   ],
   "source": [
    "adjac_matrix_undirected = [\n",
    "    [0, 1, 1],\n",
    "    [1, 0, 0],\n",
    "    [1, 0, 0]\n",
    "]\n",
    "\n",
    "adjac_matrix_undirected"
   ]
  },
  {
   "cell_type": "code",
   "execution_count": 2,
   "metadata": {},
   "outputs": [
    {
     "data": {
      "text/plain": [
       "[[0, 1, 0], [0, 0, 0], [1, 0, 0]]"
      ]
     },
     "execution_count": 2,
     "metadata": {},
     "output_type": "execute_result"
    }
   ],
   "source": [
    "adjac_matrix_directed = [\n",
    "    [0, 1, 0],\n",
    "    [0, 0, 0],\n",
    "    [1, 0, 0]\n",
    "]\n",
    "\n",
    "adjac_matrix_directed"
   ]
  },
  {
   "cell_type": "code",
   "execution_count": 3,
   "metadata": {},
   "outputs": [
    {
     "data": {
      "text/plain": [
       "[[0, 7, 3], [7, 0, 2147000000], [3, 2147000000, 0]]"
      ]
     },
     "execution_count": 3,
     "metadata": {},
     "output_type": "execute_result"
    }
   ],
   "source": [
    "INF = 2147000000 # 정수의 최대값으로 무한 표시\n",
    "\n",
    "adjac_matrix_weighited = [\n",
    "    [0, 7, 3],\n",
    "    [7, 0, INF],\n",
    "    [3, INF, 0]\n",
    "]\n",
    "\n",
    "adjac_matrix_weighited"
   ]
  },
  {
   "cell_type": "markdown",
   "metadata": {},
   "source": [
    "#### 인접 리스트(adjacency list)\n",
    "- 연결 관계를 연결된 정점에 대한 정보를 연결해 저장"
   ]
  },
  {
   "cell_type": "code",
   "execution_count": 4,
   "metadata": {},
   "outputs": [],
   "source": [
    "class Graph:\n",
    "    def __init__(self, vertex_num = None):\n",
    "        self.vtx_num = 0 # 정점의 개수\n",
    "        self.vtx_arr = [] # 정점의 존재 여부\n",
    "        self.adj_list = [] # 인접 정점 리스트\n",
    "\n",
    "        if vertex_num:\n",
    "            self.vtx_num = vertex_num\n",
    "            self.vtx_arr = [True for _ in range(self.vtx_num)]\n",
    "            self.adj_list = [[] for _ in range(self.vtx_num)]\n",
    "\n",
    "    def is_empty(self):\n",
    "        return True if self.vtx_num == 0 else False\n",
    "\n",
    "    def add_vertex(self):\n",
    "        for i in range(len(self.vtx_arr)):\n",
    "            if self.vtx_arr[i] == False:\n",
    "                self.vtx_num += 1\n",
    "                self.vtx_arr[i] = True\n",
    "                return i\n",
    "        \n",
    "        self.vtx_num += 1\n",
    "        self.vtx_arr.append(True)\n",
    "        self.adj_list.append([])\n",
    "\n",
    "        return self.vtx_num - 1\n",
    "\n",
    "    def delete_vertex(self, idx):\n",
    "        if idx >= self.vtx_num:\n",
    "            raise Exception(f'{idx}에 해당하는 정점이 없습니다.')\n",
    "\n",
    "        if self.vtx_arr[idx]:\n",
    "            self.vtx_num -= 1\n",
    "            self.vtx_arr[idx] = False\n",
    "            self.adj_list[idx] = []\n",
    "\n",
    "            for adj in self.adj_list:\n",
    "                for vertex in adj:\n",
    "                    if vertex == idx:\n",
    "                        adj.remove(vertex)\n",
    "\n",
    "    def add_edge(self, u, v):\n",
    "        self.adj_list[u].append(v)\n",
    "        self.adj_list[v].append(u)\n",
    "\n",
    "    def delete_edge(self, u, v):\n",
    "        self.adj_list[u].remove(v)\n",
    "        self.adj_list[v].remove(u)\n",
    "\n",
    "    def adj(self, v):\n",
    "        return self.adj_list[v]"
   ]
  }
 ],
 "metadata": {
  "kernelspec": {
   "display_name": "Python 3.9.7 ('base')",
   "language": "python",
   "name": "python3"
  },
  "language_info": {
   "codemirror_mode": {
    "name": "ipython",
    "version": 3
   },
   "file_extension": ".py",
   "mimetype": "text/x-python",
   "name": "python",
   "nbconvert_exporter": "python",
   "pygments_lexer": "ipython3",
   "version": "3.9.7"
  },
  "orig_nbformat": 4,
  "vscode": {
   "interpreter": {
    "hash": "ad2bdc8ecc057115af97d19610ffacc2b4e99fae6737bb82f5d7fb13d2f2c186"
   }
  }
 },
 "nbformat": 4,
 "nbformat_minor": 2
}
