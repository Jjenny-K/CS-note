{
 "cells": [
  {
   "cell_type": "markdown",
   "metadata": {},
   "source": [
    "### Linked List Structure - Example Code"
   ]
  },
  {
   "cell_type": "markdown",
   "metadata": {},
   "source": [
    "#### Single Linked List"
   ]
  },
  {
   "cell_type": "code",
   "execution_count": 1,
   "metadata": {},
   "outputs": [],
   "source": [
    "class SLLNode:\n",
    "    def __init__(self, data):\n",
    "        self.data = data\n",
    "        self.next = None"
   ]
  },
  {
   "cell_type": "code",
   "execution_count": 2,
   "metadata": {},
   "outputs": [],
   "source": [
    "class SingleLinkedList:\n",
    "    def __init__(self, data):\n",
    "        self.head = SLLNode(data)\n",
    "\n",
    "    def append(self, data):\n",
    "        if self.head is None:\n",
    "            self.head = SLLNode(data)\n",
    "        else:\n",
    "            cur_node = self.head\n",
    "            \n",
    "            while cur_node.next is not None:\n",
    "                cur_node = cur_node.next\n",
    "            \n",
    "            cur_node.next = SLLNode(data)\n",
    "\n",
    "    def get_node_index(self, idx):\n",
    "        cnt = 0\n",
    "        cur_node = self.head\n",
    "\n",
    "        while cnt < idx:\n",
    "            if cur_node.next is None:\n",
    "                return -1, None\n",
    "\n",
    "            cnt += 1\n",
    "            cur_node = cur_node.next\n",
    "        \n",
    "        return cnt, cur_node\n",
    "\n",
    "    def get_node_data(self, data):\n",
    "        cnt = 0\n",
    "        cur_node = self.head\n",
    "\n",
    "        while cur_node is not None:\n",
    "            if cur_node.data == data:\n",
    "                return cnt, cur_node\n",
    "            \n",
    "            cnt += 1\n",
    "            cur_node = cur_node.next\n",
    "        \n",
    "        return -1, cur_node\n",
    "\n",
    "    def insert_node(self, idx, data):\n",
    "        insert_node = SLLNode(data)\n",
    "\n",
    "        if idx == 0:\n",
    "            insert_node.next = self.head\n",
    "            self.head = insert_node\n",
    "            return\n",
    "\n",
    "        _, prev_node = self.get_node_index(idx - 1)\n",
    "        next_node = prev_node.next\n",
    "\n",
    "        prev_node.next = insert_node\n",
    "        insert_node.next = next_node\n",
    "\n",
    "    def delete_node(self, idx):\n",
    "        if idx == 0:\n",
    "            self.head = self.head.next\n",
    "            return\n",
    "\n",
    "        _, prev_node = self.get_node_index(idx - 1)\n",
    "\n",
    "        prev_node.next = prev_node.next.next\n",
    "\n",
    "    def clear(self):\n",
    "        self.head = None\n",
    "\n",
    "    def print(self):\n",
    "        cur_node = self.head\n",
    "\n",
    "        while cur_node is not None:\n",
    "            print(cur_node.data, end = '-')\n",
    "\n",
    "            cur_node = cur_node.next"
   ]
  },
  {
   "cell_type": "code",
   "execution_count": 3,
   "metadata": {},
   "outputs": [],
   "source": [
    "test_sll = SingleLinkedList(1)"
   ]
  },
  {
   "cell_type": "code",
   "execution_count": 4,
   "metadata": {},
   "outputs": [
    {
     "name": "stdout",
     "output_type": "stream",
     "text": [
      "1-3-9-"
     ]
    }
   ],
   "source": [
    "test_sll.append(3)\n",
    "test_sll.append(9)\n",
    "test_sll.print()"
   ]
  },
  {
   "cell_type": "code",
   "execution_count": 5,
   "metadata": {},
   "outputs": [
    {
     "name": "stdout",
     "output_type": "stream",
     "text": [
      "1-7-3-9-"
     ]
    }
   ],
   "source": [
    "test_sll.insert_node(1, 7)\n",
    "test_sll.print()"
   ]
  },
  {
   "cell_type": "code",
   "execution_count": 6,
   "metadata": {},
   "outputs": [
    {
     "name": "stdout",
     "output_type": "stream",
     "text": [
      "5-1-7-3-9-"
     ]
    }
   ],
   "source": [
    "test_sll.insert_node(0, 5)\n",
    "test_sll.print()"
   ]
  },
  {
   "cell_type": "code",
   "execution_count": 7,
   "metadata": {},
   "outputs": [
    {
     "name": "stdout",
     "output_type": "stream",
     "text": [
      "3\n"
     ]
    }
   ],
   "source": [
    "_, get_node = test_sll.get_node_index(3)\n",
    "print(get_node.data if get_node is not None else get_node)"
   ]
  },
  {
   "cell_type": "code",
   "execution_count": 8,
   "metadata": {},
   "outputs": [
    {
     "name": "stdout",
     "output_type": "stream",
     "text": [
      "None\n"
     ]
    }
   ],
   "source": [
    "_, get_node = test_sll.get_node_index(8)\n",
    "print(get_node.data if get_node is not None else get_node)"
   ]
  },
  {
   "cell_type": "code",
   "execution_count": 9,
   "metadata": {},
   "outputs": [
    {
     "name": "stdout",
     "output_type": "stream",
     "text": [
      "3\n"
     ]
    }
   ],
   "source": [
    "get_index, _ = test_sll.get_node_data(3)\n",
    "print(get_index)"
   ]
  },
  {
   "cell_type": "code",
   "execution_count": 10,
   "metadata": {},
   "outputs": [
    {
     "name": "stdout",
     "output_type": "stream",
     "text": [
      "-1\n"
     ]
    }
   ],
   "source": [
    "get_index, _ = test_sll.get_node_data(8)\n",
    "print(get_index)"
   ]
  },
  {
   "cell_type": "code",
   "execution_count": 11,
   "metadata": {},
   "outputs": [
    {
     "name": "stdout",
     "output_type": "stream",
     "text": [
      "5-1-3-9-"
     ]
    }
   ],
   "source": [
    "test_sll.delete_node(2)\n",
    "test_sll.print()"
   ]
  },
  {
   "cell_type": "code",
   "execution_count": 12,
   "metadata": {},
   "outputs": [],
   "source": [
    "test_sll.clear()\n",
    "test_sll.print()"
   ]
  },
  {
   "cell_type": "markdown",
   "metadata": {},
   "source": [
    "#### Double Linked List"
   ]
  },
  {
   "cell_type": "code",
   "execution_count": 13,
   "metadata": {},
   "outputs": [],
   "source": [
    "class DLLNode:\n",
    "    def __init__(self, data):\n",
    "        self.data = data\n",
    "        self.prev = None\n",
    "        self.next = None"
   ]
  },
  {
   "cell_type": "code",
   "execution_count": 14,
   "metadata": {},
   "outputs": [],
   "source": [
    "class DoubleLinkedList:\n",
    "    def __init__(self, data):\n",
    "        self.head = DLLNode(data)\n",
    "\n",
    "    def append(self, data):\n",
    "        append_node = DLLNode(data)\n",
    "\n",
    "        if self.head is None:\n",
    "            self.head = append_node\n",
    "        else:\n",
    "            cur_node = self.head\n",
    "            \n",
    "            while cur_node.next is not None:\n",
    "                cur_node = cur_node.next\n",
    "            \n",
    "            cur_node.next = append_node\n",
    "            append_node.prev = cur_node\n",
    "\n",
    "\n",
    "    def get_node_index(self, idx):\n",
    "        cnt = 0\n",
    "        cur_node = self.head\n",
    "\n",
    "        while cnt < idx:\n",
    "            if cur_node.next is None:\n",
    "                return -1, None\n",
    "\n",
    "            cnt += 1\n",
    "            cur_node = cur_node.next\n",
    "        \n",
    "        return cnt, cur_node\n",
    "\n",
    "    def get_node_data(self, data):\n",
    "        cnt = 0\n",
    "        cur_node = self.head\n",
    "\n",
    "        while cur_node is not None:\n",
    "            if cur_node.data == data:\n",
    "                return cnt, cur_node\n",
    "            \n",
    "            cnt += 1\n",
    "            cur_node = cur_node.next\n",
    "        \n",
    "        return -1, cur_node\n",
    "\n",
    "    def insert_node(self, idx, data):\n",
    "        insert_node = DLLNode(data)\n",
    "\n",
    "        if idx == 0:\n",
    "            insert_node.next = self.head\n",
    "            self.head.prev = insert_node\n",
    "            self.head = insert_node\n",
    "            return\n",
    "\n",
    "        _, prev_node = self.get_node_index(idx - 1)\n",
    "        next_node = prev_node.next\n",
    "\n",
    "        prev_node.next = insert_node\n",
    "        insert_node.prev = prev_node\n",
    "        insert_node.next = next_node\n",
    "        next_node.prev = insert_node\n",
    "\n",
    "    def delete_node(self, idx):\n",
    "        if idx == 0:\n",
    "            self.head = self.head.next\n",
    "            self.head.prev = None\n",
    "            return\n",
    "\n",
    "        _, prev_node = self.get_node_index(idx - 1)\n",
    "\n",
    "        prev_node.next = prev_node.next.next\n",
    "        prev_node.next.next.prev = prev_node\n",
    "\n",
    "    def clear(self):\n",
    "        self.head = None\n",
    "\n",
    "    def print(self):\n",
    "        cur_node = self.head\n",
    "\n",
    "        while cur_node is not None:\n",
    "            print(cur_node.data, end = '-')\n",
    "\n",
    "            cur_node = cur_node.next"
   ]
  },
  {
   "cell_type": "code",
   "execution_count": 15,
   "metadata": {},
   "outputs": [],
   "source": [
    "test_dll = DoubleLinkedList(1)"
   ]
  },
  {
   "cell_type": "code",
   "execution_count": 16,
   "metadata": {},
   "outputs": [
    {
     "name": "stdout",
     "output_type": "stream",
     "text": [
      "1-3-9-"
     ]
    }
   ],
   "source": [
    "test_dll.append(3)\n",
    "test_dll.append(9)\n",
    "test_dll.print()"
   ]
  },
  {
   "cell_type": "code",
   "execution_count": 17,
   "metadata": {},
   "outputs": [
    {
     "name": "stdout",
     "output_type": "stream",
     "text": [
      "1-7-3-9-"
     ]
    }
   ],
   "source": [
    "test_dll.insert_node(1, 7)\n",
    "test_dll.print()"
   ]
  },
  {
   "cell_type": "code",
   "execution_count": 18,
   "metadata": {},
   "outputs": [
    {
     "name": "stdout",
     "output_type": "stream",
     "text": [
      "5-1-7-3-9-"
     ]
    }
   ],
   "source": [
    "test_dll.insert_node(0, 5)\n",
    "test_dll.print()"
   ]
  },
  {
   "cell_type": "code",
   "execution_count": 19,
   "metadata": {},
   "outputs": [
    {
     "name": "stdout",
     "output_type": "stream",
     "text": [
      "7\n"
     ]
    }
   ],
   "source": [
    "_, get_node = test_dll.get_node_index(3)\n",
    "print(get_node.prev.data if get_node is not None else get_node)"
   ]
  },
  {
   "cell_type": "code",
   "execution_count": 20,
   "metadata": {},
   "outputs": [
    {
     "name": "stdout",
     "output_type": "stream",
     "text": [
      "None\n"
     ]
    }
   ],
   "source": [
    "_, get_node = test_dll.get_node_index(8)\n",
    "print(get_node.prev.data if get_node is not None else get_node)"
   ]
  },
  {
   "cell_type": "code",
   "execution_count": 21,
   "metadata": {},
   "outputs": [
    {
     "data": {
      "text/plain": [
       "3"
      ]
     },
     "execution_count": 21,
     "metadata": {},
     "output_type": "execute_result"
    }
   ],
   "source": [
    "get_index, _ = test_dll.get_node_data(3)\n",
    "get_index"
   ]
  },
  {
   "cell_type": "code",
   "execution_count": 22,
   "metadata": {},
   "outputs": [
    {
     "data": {
      "text/plain": [
       "-1"
      ]
     },
     "execution_count": 22,
     "metadata": {},
     "output_type": "execute_result"
    }
   ],
   "source": [
    "get_index, _ = test_dll.get_node_data(8)\n",
    "get_index"
   ]
  },
  {
   "cell_type": "code",
   "execution_count": 23,
   "metadata": {},
   "outputs": [
    {
     "name": "stdout",
     "output_type": "stream",
     "text": [
      "5-1-3-9-"
     ]
    }
   ],
   "source": [
    "test_dll.delete_node(2)\n",
    "test_dll.print()"
   ]
  },
  {
   "cell_type": "code",
   "execution_count": 24,
   "metadata": {},
   "outputs": [],
   "source": [
    "test_dll.clear()\n",
    "test_dll.print()"
   ]
  }
 ],
 "metadata": {
  "kernelspec": {
   "display_name": "Python 3.9.7 ('base')",
   "language": "python",
   "name": "python3"
  },
  "language_info": {
   "codemirror_mode": {
    "name": "ipython",
    "version": 3
   },
   "file_extension": ".py",
   "mimetype": "text/x-python",
   "name": "python",
   "nbconvert_exporter": "python",
   "pygments_lexer": "ipython3",
   "version": "3.9.7"
  },
  "orig_nbformat": 4,
  "vscode": {
   "interpreter": {
    "hash": "ad2bdc8ecc057115af97d19610ffacc2b4e99fae6737bb82f5d7fb13d2f2c186"
   }
  }
 },
 "nbformat": 4,
 "nbformat_minor": 2
}
